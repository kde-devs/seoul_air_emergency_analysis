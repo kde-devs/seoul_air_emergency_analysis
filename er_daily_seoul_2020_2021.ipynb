{
  "nbformat": 4,
  "nbformat_minor": 0,
  "metadata": {
    "colab": {
      "provenance": []
    },
    "kernelspec": {
      "name": "python3",
      "display_name": "Python 3"
    },
    "language_info": {
      "name": "python"
    }
  },
  "cells": [
    {
      "cell_type": "code",
      "execution_count": 10,
      "metadata": {
        "colab": {
          "base_uri": "https://localhost:8080/"
        },
        "id": "D6S_P95uImIR",
        "outputId": "3a4dab9a-b99b-4826-9827-7a9a2d4b670c"
      },
      "outputs": [
        {
          "output_type": "stream",
          "name": "stdout",
          "text": [
            "Drive already mounted at /content/drive; to attempt to forcibly remount, call drive.mount(\"/content/drive\", force_remount=True).\n"
          ]
        }
      ],
      "source": [
        "from google.colab import drive\n",
        "import calendar\n",
        "\n",
        "drive.mount('/content/drive')"
      ]
    },
    {
      "cell_type": "code",
      "source": [
        "file_path = '/content/drive/MyDrive/seoul_air_emergency_analysis/데이터/응급실 월별 현황 (202001~202112).xlsx'"
      ],
      "metadata": {
        "id": "TXHwgFlwJRwq"
      },
      "execution_count": 11,
      "outputs": []
    },
    {
      "cell_type": "code",
      "source": [
        "import pandas as pd\n",
        "df_preview = pd.read_excel(file_path)\n",
        "\n",
        "months = pd.date_range(\"2020-01-01\", \"2021-12-01\", freq = \"MS\")\n",
        "monthly_er_counts = df_preview.iloc[1, 3:27].astype(int).tolist()"
      ],
      "metadata": {
        "colab": {
          "base_uri": "https://localhost:8080/"
        },
        "id": "kExg1NUuJpTg",
        "outputId": "9d2e13bc-f62b-4095-d927-2fe2cf2bece2"
      },
      "execution_count": 13,
      "outputs": [
        {
          "output_type": "stream",
          "name": "stderr",
          "text": [
            "/usr/local/lib/python3.11/dist-packages/openpyxl/styles/stylesheet.py:237: UserWarning: Workbook contains no default style, apply openpyxl's default\n",
            "  warn(\"Workbook contains no default style, apply openpyxl's default\")\n"
          ]
        }
      ]
    },
    {
      "cell_type": "code",
      "source": [
        "daily_er_data = []\n",
        "\n",
        "for date, total in zip(months, monthly_er_counts):\n",
        "  year = date.year\n",
        "  month = date.month\n",
        "  days_in_month = calendar.monthrange(year, month)[1]\n",
        "  daily_count = total / days_in_month\n",
        "  for day in range(1, days_in_month+1):\n",
        "    daily_er_data.append({\n",
        "        'date' : pd.Timestamp(year = year, month = month, day = day),\n",
        "        'er_visits' : round(daily_count, 2)\n",
        "    })"
      ],
      "metadata": {
        "id": "la1FChahKlFJ"
      },
      "execution_count": 17,
      "outputs": []
    },
    {
      "cell_type": "code",
      "source": [
        "df_er_daily = pd.DataFrame(daily_er_data)\n",
        "df_er_daily.to_csv(\"er_daily_seoul_2020_2021.csv\", index = False)"
      ],
      "metadata": {
        "id": "7RRmO089L_BG"
      },
      "execution_count": 18,
      "outputs": []
    }
  ]
}