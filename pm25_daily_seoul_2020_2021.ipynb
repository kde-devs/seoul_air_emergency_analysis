{
  "nbformat": 4,
  "nbformat_minor": 0,
  "metadata": {
    "colab": {
      "provenance": []
    },
    "kernelspec": {
      "name": "python3",
      "display_name": "Python 3"
    },
    "language_info": {
      "name": "python"
    }
  },
  "cells": [
    {
      "cell_type": "code",
      "execution_count": 26,
      "metadata": {
        "colab": {
          "base_uri": "https://localhost:8080/"
        },
        "id": "nnKV0sKDji-7",
        "outputId": "e50afa1d-1041-4dd2-a73b-c85d50eb2eab"
      },
      "outputs": [
        {
          "output_type": "stream",
          "name": "stdout",
          "text": [
            "Drive already mounted at /content/drive; to attempt to forcibly remount, call drive.mount(\"/content/drive\", force_remount=True).\n"
          ]
        }
      ],
      "source": [
        "from google.colab import drive\n",
        "import pandas as pd\n",
        "import calendar\n",
        "\n",
        "drive.mount('/content/drive')"
      ]
    },
    {
      "cell_type": "code",
      "source": [
        "monthly_2020 = '/content/drive/MyDrive/seoul_air_emergency_analysis/데이터/초미세먼지/2020month.xlsx'\n",
        "monthly_2021 = '/content/drive/MyDrive/seoul_air_emergency_analysis/데이터/초미세먼지/2021month.xlsx'"
      ],
      "metadata": {
        "id": "hLEnIWC6kmE5"
      },
      "execution_count": 11,
      "outputs": []
    },
    {
      "cell_type": "code",
      "source": [
        "monthly_2020 = df_2020.iloc[4:, 2:14].apply(pd.to_numeric, errors = 'coerce')\n",
        "monthly_2020_avg = monthly_2020.mean(axis=0).round(2).tolist()\n",
        "monthly_2021 = df_2021.iloc[4:, 2:14].apply(pd.to_numeric, errors = 'coerce')\n",
        "monthly_2021_avg = monthly_2021.mean(axis=0).round(2).tolist()"
      ],
      "metadata": {
        "id": "0jER4tpVmdOz"
      },
      "execution_count": 14,
      "outputs": []
    },
    {
      "cell_type": "code",
      "source": [
        "def create_daily_pm25(year, monthly_values):\n",
        "    daily_data = []\n",
        "    for month, value in zip(range(1, 13), monthly_values):\n",
        "        days = calendar.monthrange(year, month)[1]\n",
        "        for day in range(1, days+1):\n",
        "            daily_data.append({\n",
        "              'data' : pd.Timestamp(year = year, month = month, day = day),\n",
        "              'pm25' : value\n",
        "          })\n",
        "    return pd.DataFrame(daily_data)"
      ],
      "metadata": {
        "id": "fZXyfe6gCrAj"
      },
      "execution_count": 33,
      "outputs": []
    },
    {
      "cell_type": "code",
      "source": [
        "df_pm25_2020 = create_daily_pm25(2020, monthly_2020_avg)\n",
        "df_pm25_2021 = create_daily_pm25(2021, monthly_2021_avg)\n",
        "df_pm25_daily_avg = pd.concat([df_pm25_2020, df_pm25_2021], ignore_index = True)"
      ],
      "metadata": {
        "id": "Yr5pUNUEE5Hg"
      },
      "execution_count": 35,
      "outputs": []
    },
    {
      "cell_type": "code",
      "source": [
        "df_pm25_daily_avg.to_csv(\"pm25_daily_avg_seoul_2020_2021.csv\", index = False)"
      ],
      "metadata": {
        "id": "325oBKetGZnR"
      },
      "execution_count": 37,
      "outputs": []
    }
  ]
}